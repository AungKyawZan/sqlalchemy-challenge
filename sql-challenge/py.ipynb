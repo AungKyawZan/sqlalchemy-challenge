{
 "cells": [
  {
   "cell_type": "code",
   "execution_count": 4,
   "metadata": {},
   "outputs": [],
   "source": [
    "import pandas as pd\n",
    "import glob\n",
    "import os"
   ]
  },
  {
   "cell_type": "code",
   "execution_count": 5,
   "metadata": {},
   "outputs": [],
   "source": [
    "csvs_path=glob.glob(\"./data/*.csv\")"
   ]
  },
  {
   "cell_type": "code",
   "execution_count": 6,
   "metadata": {},
   "outputs": [
    {
     "name": "stdout",
     "output_type": "stream",
     "text": [
      "departments.csv\n",
      "dept_no      object\n",
      "dept_name    object\n",
      "dtype: object\n",
      "_________\n",
      "dept_emp.csv\n",
      "emp_no      int64\n",
      "dept_no    object\n",
      "dtype: object\n",
      "_________\n",
      "dept_manager.csv\n",
      "dept_no    object\n",
      "emp_no      int64\n",
      "dtype: object\n",
      "_________\n",
      "employees.csv\n",
      "emp_no           int64\n",
      "emp_title_id    object\n",
      "birth_date      object\n",
      "first_name      object\n",
      "last_name       object\n",
      "sex             object\n",
      "hire_date       object\n",
      "dtype: object\n",
      "_________\n",
      "salaries.csv\n",
      "emp_no    int64\n",
      "salary    int64\n",
      "dtype: object\n",
      "_________\n",
      "titles.csv\n",
      "title_id    object\n",
      "title       object\n",
      "dtype: object\n",
      "_________\n"
     ]
    }
   ],
   "source": [
    "for x in csvs_path:\n",
    "    df = pd.read_csv(x)\n",
    "    print(os.path.basename(x))\n",
    "    print(df.dtypes)\n",
    "    print(\"_________\")"
   ]
  },
  {
   "cell_type": "code",
   "execution_count": 14,
   "metadata": {},
   "outputs": [
    {
     "data": {
      "text/html": [
       "<div>\n",
       "<style scoped>\n",
       "    .dataframe tbody tr th:only-of-type {\n",
       "        vertical-align: middle;\n",
       "    }\n",
       "\n",
       "    .dataframe tbody tr th {\n",
       "        vertical-align: top;\n",
       "    }\n",
       "\n",
       "    .dataframe thead th {\n",
       "        text-align: right;\n",
       "    }\n",
       "</style>\n",
       "<table border=\"1\" class=\"dataframe\">\n",
       "  <thead>\n",
       "    <tr style=\"text-align: right;\">\n",
       "      <th></th>\n",
       "      <th>emp_no</th>\n",
       "      <th>salary</th>\n",
       "    </tr>\n",
       "  </thead>\n",
       "  <tbody>\n",
       "    <tr>\n",
       "      <th>0</th>\n",
       "      <td>10001</td>\n",
       "      <td>60117</td>\n",
       "    </tr>\n",
       "    <tr>\n",
       "      <th>1</th>\n",
       "      <td>10002</td>\n",
       "      <td>65828</td>\n",
       "    </tr>\n",
       "    <tr>\n",
       "      <th>2</th>\n",
       "      <td>10003</td>\n",
       "      <td>40006</td>\n",
       "    </tr>\n",
       "    <tr>\n",
       "      <th>3</th>\n",
       "      <td>10004</td>\n",
       "      <td>40054</td>\n",
       "    </tr>\n",
       "    <tr>\n",
       "      <th>4</th>\n",
       "      <td>10005</td>\n",
       "      <td>78228</td>\n",
       "    </tr>\n",
       "    <tr>\n",
       "      <th>...</th>\n",
       "      <td>...</td>\n",
       "      <td>...</td>\n",
       "    </tr>\n",
       "    <tr>\n",
       "      <th>300019</th>\n",
       "      <td>499995</td>\n",
       "      <td>40000</td>\n",
       "    </tr>\n",
       "    <tr>\n",
       "      <th>300020</th>\n",
       "      <td>499996</td>\n",
       "      <td>58058</td>\n",
       "    </tr>\n",
       "    <tr>\n",
       "      <th>300021</th>\n",
       "      <td>499997</td>\n",
       "      <td>49597</td>\n",
       "    </tr>\n",
       "    <tr>\n",
       "      <th>300022</th>\n",
       "      <td>499998</td>\n",
       "      <td>40000</td>\n",
       "    </tr>\n",
       "    <tr>\n",
       "      <th>300023</th>\n",
       "      <td>499999</td>\n",
       "      <td>63707</td>\n",
       "    </tr>\n",
       "  </tbody>\n",
       "</table>\n",
       "<p>300024 rows × 2 columns</p>\n",
       "</div>"
      ],
      "text/plain": [
       "        emp_no  salary\n",
       "0        10001   60117\n",
       "1        10002   65828\n",
       "2        10003   40006\n",
       "3        10004   40054\n",
       "4        10005   78228\n",
       "...        ...     ...\n",
       "300019  499995   40000\n",
       "300020  499996   58058\n",
       "300021  499997   49597\n",
       "300022  499998   40000\n",
       "300023  499999   63707\n",
       "\n",
       "[300024 rows x 2 columns]"
      ]
     },
     "execution_count": 14,
     "metadata": {},
     "output_type": "execute_result"
    }
   ],
   "source": [
    "ab=pd.read_csv(\"./data/salaries.csv\")\n",
    "ab"
   ]
  }
 ],
 "metadata": {
  "kernelspec": {
   "display_name": "base",
   "language": "python",
   "name": "python3"
  },
  "language_info": {
   "codemirror_mode": {
    "name": "ipython",
    "version": 3
   },
   "file_extension": ".py",
   "mimetype": "text/x-python",
   "name": "python",
   "nbconvert_exporter": "python",
   "pygments_lexer": "ipython3",
   "version": "3.9.13"
  },
  "orig_nbformat": 4
 },
 "nbformat": 4,
 "nbformat_minor": 2
}
